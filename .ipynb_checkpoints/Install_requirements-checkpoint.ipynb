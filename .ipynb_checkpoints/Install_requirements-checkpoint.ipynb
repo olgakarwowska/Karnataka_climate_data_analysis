{
 "cells": [
  {
   "cell_type": "code",
   "execution_count": null,
   "id": "24cd6ead-d5a9-4ccd-b862-eec231aa1be6",
   "metadata": {},
   "outputs": [],
   "source": [
    "# In this file all necessary instalations of packages take place"
   ]
  },
  {
   "cell_type": "code",
   "execution_count": null,
   "id": "f0ffb833-a565-4aa7-a448-50ad62666618",
   "metadata": {},
   "outputs": [],
   "source": [
    "!pip install imdlib\n",
    "!pip install pandas\n",
    "!pip install numpy\n",
    "!pip install matplotlib\n",
    "!pip install seaborn\n",
    "!pip install scipy\n",
    "!pip install statsmodels\n"
   ]
  }
 ],
 "metadata": {
  "kernelspec": {
   "display_name": "Python 3 (ipykernel)",
   "language": "python",
   "name": "python3"
  },
  "language_info": {
   "codemirror_mode": {
    "name": "ipython",
    "version": 3
   },
   "file_extension": ".py",
   "mimetype": "text/x-python",
   "name": "python",
   "nbconvert_exporter": "python",
   "pygments_lexer": "ipython3",
   "version": "3.12.4"
  }
 },
 "nbformat": 4,
 "nbformat_minor": 5
}
