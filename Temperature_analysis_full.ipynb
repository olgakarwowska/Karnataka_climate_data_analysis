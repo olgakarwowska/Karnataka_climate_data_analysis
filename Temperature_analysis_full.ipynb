{
 "cells": [
  {
   "cell_type": "code",
   "execution_count": 1,
   "id": "8c5b54ba-a148-4de8-836a-18608e5921b8",
   "metadata": {},
   "outputs": [],
   "source": [
    "# Full temp analysis"
   ]
  },
  {
   "cell_type": "code",
   "execution_count": null,
   "id": "e2b7651f-8cb6-4bb4-a130-a63b3251e4e5",
   "metadata": {},
   "outputs": [],
   "source": []
  }
 ],
 "metadata": {
  "kernelspec": {
   "display_name": "Python 3 (ipykernel)",
   "language": "python",
   "name": "python3"
  },
  "language_info": {
   "codemirror_mode": {
    "name": "ipython",
    "version": 3
   },
   "file_extension": ".py",
   "mimetype": "text/x-python",
   "name": "python",
   "nbconvert_exporter": "python",
   "pygments_lexer": "ipython3",
   "version": "3.12.4"
  }
 },
 "nbformat": 4,
 "nbformat_minor": 5
}
